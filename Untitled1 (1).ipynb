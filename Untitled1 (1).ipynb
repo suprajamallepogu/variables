{
 "cells": [
  {
   "cell_type": "markdown",
   "id": "952396dc-7036-4b35-8913-f7be30a92610",
   "metadata": {},
   "source": [
    "x='My name is supraja'\n",
    "_y='You are doing a great job'\n",
    "z_='My positivity always brightens my day'\n",
    "A_1='I am sorry if I upset you'\n",
    "support_offer= 'Iam here for you if you need to talk'\n",
    "M1_='In b.tech life M1 is difficult to pass'\n",
    "_7='seven is my lucky number'\n",
    "python='python is a high level language'\n",
    "AI_3='AI engineering is a highly promising and rewarding career choice'\n",
    "_='Teks academy have several branches in Hyderabad'\n"
   ]
  },
  {
   "cell_type": "markdown",
   "id": "83cd8f81-b964-4050-bfab-d0602fb5ff7c",
   "metadata": {},
   "source": [
    "6='My class starts at 4:30'\n",
    "if='MY dog barks loudly'\n",
    "@x='I exercise every morning'\n",
    "1_s='My friend roll number is 1'\n",
    "@_='this is invalid sentences' \n",
    "for='It is keyword used in c language'\n",
    "true='we walked for hours'\n",
    "$='The little girl played at the playground'\n",
    "!_n='I will visit my parents next weekend' \n",
    "4_june='Today election results are announced'  "
   ]
  },
  {
   "cell_type": "code",
   "execution_count": null,
   "id": "078ca0ee-191f-46d5-b987-482553a15336",
   "metadata": {},
   "outputs": [],
   "source": []
  }
 ],
 "metadata": {
  "kernelspec": {
   "display_name": "Python 3 (ipykernel)",
   "language": "python",
   "name": "python3"
  },
  "language_info": {
   "codemirror_mode": {
    "name": "ipython",
    "version": 3
   },
   "file_extension": ".py",
   "mimetype": "text/x-python",
   "name": "python",
   "nbconvert_exporter": "python",
   "pygments_lexer": "ipython3",
   "version": "3.11.7"
  }
 },
 "nbformat": 4,
 "nbformat_minor": 5
}
