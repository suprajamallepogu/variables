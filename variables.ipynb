{
 "cells": [
  {
   "cell_type": "markdown",
   "id": "572e6212-6d4a-4300-a184-5b6c6ec55192",
   "metadata": {},
   "source": [
    "# Types of variables\n",
    "- Multi to multi\n",
    "- Multi to single"
   ]
  },
  {
   "cell_type": "markdown",
   "id": "b8702d89-54d2-4b2b-beef-c4b0b4bead4a",
   "metadata": {},
   "source": [
    "# Multi to multi"
   ]
  },
  {
   "cell_type": "code",
   "execution_count": 1,
   "id": "41a7cd71-7860-4051-9a6a-910dea12d7e7",
   "metadata": {},
   "outputs": [
    {
     "name": "stdout",
     "output_type": "stream",
     "text": [
      "Supraja\n",
      "Naveena\n",
      "Soniya\n"
     ]
    }
   ],
   "source": [
    "a,b,c=\"Supraja\",\"Naveena\",\"Soniya\"\n",
    "print(a)\n",
    "print(b)\n",
    "print(c)"
   ]
  },
  {
   "cell_type": "markdown",
   "id": "53000baa-dc9f-4a87-9c6c-72bef6dfb8b7",
   "metadata": {},
   "source": [
    "# Multi to single"
   ]
  },
  {
   "cell_type": "code",
   "execution_count": 5,
   "id": "7f44eea2-48b5-4537-8abb-ec433dc0b1e8",
   "metadata": {},
   "outputs": [
    {
     "name": "stdout",
     "output_type": "stream",
     "text": [
      "Friends\n",
      "Friends\n",
      "Friends\n"
     ]
    }
   ],
   "source": [
    "a=b=c=\"Friends\"\n",
    "print(a)\n",
    "print(b)\n",
    "print(c)"
   ]
  },
  {
   "cell_type": "code",
   "execution_count": 6,
   "id": "46eea7f3-81cd-4fb2-85ef-de75198e897c",
   "metadata": {},
   "outputs": [
    {
     "name": "stdout",
     "output_type": "stream",
     "text": [
      "10000\n",
      "10000\n",
      "10000\n"
     ]
    }
   ],
   "source": [
    "x=y=z=10000\n",
    "print(x)\n",
    "print(y)\n",
    "print(z)"
   ]
  },
  {
   "cell_type": "markdown",
   "id": "bc45bcbf-65c8-48c7-8434-c205f60b9a70",
   "metadata": {},
   "source": [
    "# Rules to create variables"
   ]
  },
  {
   "cell_type": "markdown",
   "id": "6a374ead-9427-4954-b3b4-a1d0cabbb244",
   "metadata": {},
   "source": [
    "- variable name can only contain alphanumeric characters and underscore\n",
    "- variables can't start with a number or any special character\n",
    "- python reserved keywords cannot be used naming the variable\n",
    "- python variables are case-sensitive which means Name and NAME are two different variables in python\n",
    "- variables name can't start with digits"
   ]
  },
  {
   "cell_type": "markdown",
   "id": "db0b52ab-ccad-432f-994d-9b041f45f1e6",
   "metadata": {},
   "source": [
    "# valid variables"
   ]
  },
  {
   "cell_type": "code",
   "execution_count": 5,
   "id": "ce87ef2c-c50e-4e7e-91dd-581e66d96b8e",
   "metadata": {},
   "outputs": [],
   "source": [
    " x='My name is supraja'\n",
    " _y='You are doing a great job'\n",
    " z_='My positivity always brightens my day'\n",
    " A_1='I am sorry if I upset you'\n",
    " support_offer= 'Iam here for you if you need to talk'\n",
    " M1_='In b.tech life M1 is difficult to pass'\n",
    " _7='seven is my lucky number'\n",
    " python='python is a high level language'\n",
    " AI_3='AI engineering is a highly promising and rewarding career choice'\n",
    " _='Teks academy have several branches in Hyderabad'\n"
   ]
  },
  {
   "cell_type": "markdown",
   "id": "057192b7-6943-4f47-8359-d647efc37465",
   "metadata": {},
   "source": [
    "# Invalid variables"
   ]
  },
  {
   "cell_type": "code",
   "execution_count": 6,
   "id": "727e6a11-be28-4d14-a373-397c1072a881",
   "metadata": {},
   "outputs": [
    {
     "ename": "SyntaxError",
     "evalue": "invalid decimal literal (113824874.py, line 4)",
     "output_type": "error",
     "traceback": [
      "\u001b[1;36m  Cell \u001b[1;32mIn[6], line 4\u001b[1;36m\u001b[0m\n\u001b[1;33m    1_s='My friend roll number is 1'\u001b[0m\n\u001b[1;37m     ^\u001b[0m\n\u001b[1;31mSyntaxError\u001b[0m\u001b[1;31m:\u001b[0m invalid decimal literal\n"
     ]
    }
   ],
   "source": [
    " 6='My class starts at 4:30'\n",
    " if='MY dog barks loudly'\n",
    " @x='I exercise every morning'\n",
    " 1_s='My friend roll number is 1'\n",
    " @_='this is invalid sentences' \n",
    " for='It is keyword used in c language'\n",
    " true='we walked for hours'\n",
    " $='The little girl played at the playground'\n",
    " !_n='I will visit my parents next weekend' \n",
    " 4_june='Today election results are announced'  "
   ]
  }
 ],
 "metadata": {
  "kernelspec": {
   "display_name": "Python 3 (ipykernel)",
   "language": "python",
   "name": "python3"
  },
  "language_info": {
   "codemirror_mode": {
    "name": "ipython",
    "version": 3
   },
   "file_extension": ".py",
   "mimetype": "text/x-python",
   "name": "python",
   "nbconvert_exporter": "python",
   "pygments_lexer": "ipython3",
   "version": "3.11.7"
  }
 },
 "nbformat": 4,
 "nbformat_minor": 5
}
